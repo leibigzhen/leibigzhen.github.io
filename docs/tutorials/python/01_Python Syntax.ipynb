{
 "cells": [
  {
   "cell_type": "code",
   "execution_count": 263,
   "id": "aa6f739d",
   "metadata": {},
   "outputs": [
    {
     "name": "stdout",
     "output_type": "stream",
     "text": [
      "hello, world!\n"
     ]
    }
   ],
   "source": [
    "print(\"hello, world!\")"
   ]
  },
  {
   "cell_type": "markdown",
   "id": "0b946424",
   "metadata": {},
   "source": [
    "---\n",
    "## 1 变量 Variable"
   ]
  },
  {
   "cell_type": "markdown",
   "id": "f658470f",
   "metadata": {},
   "source": [
    "int和float是4个字节，即32个比特（1:8）  \n",
    "double是双精度的浮点，多一倍字节，精度最高  \n",
    "请避免拼写错误！无自动检查！"
   ]
  },
  {
   "cell_type": "code",
   "execution_count": 261,
   "id": "a8c2294e",
   "metadata": {},
   "outputs": [],
   "source": [
    "# a, _, _a, a_, a1, _1, 但是“数字”不可以放在最前面 e.g. 2a, 2_ are wrong\n",
    "a = 1\n",
    "_a = 2.5\n",
    "_1 = 3"
   ]
  },
  {
   "cell_type": "code",
   "execution_count": 26,
   "id": "c5f4c9f5",
   "metadata": {},
   "outputs": [
    {
     "data": {
      "text/plain": [
       "int"
      ]
     },
     "execution_count": 26,
     "metadata": {},
     "output_type": "execute_result"
    }
   ],
   "source": [
    "# integer 整数\n",
    "type(a) "
   ]
  },
  {
   "cell_type": "code",
   "execution_count": 6,
   "id": "435149c1",
   "metadata": {},
   "outputs": [
    {
     "data": {
      "text/plain": [
       "float"
      ]
     },
     "execution_count": 6,
     "metadata": {},
     "output_type": "execute_result"
    }
   ],
   "source": [
    "# float 浮点\n",
    "type(_a)"
   ]
  },
  {
   "cell_type": "markdown",
   "id": "51f4c748",
   "metadata": {},
   "source": [
    "---\n",
    "## 2 字符串 String"
   ]
  },
  {
   "cell_type": "code",
   "execution_count": 14,
   "id": "6fc0a884",
   "metadata": {},
   "outputs": [],
   "source": [
    "# 用双引号表示字符\n",
    "mesage = \"hello, Tracy!\""
   ]
  },
  {
   "cell_type": "code",
   "execution_count": 15,
   "id": "3d3be8cd",
   "metadata": {},
   "outputs": [
    {
     "name": "stdout",
     "output_type": "stream",
     "text": [
      "hello, Tracy!\n"
     ]
    }
   ],
   "source": [
    "print(mesage)"
   ]
  },
  {
   "cell_type": "code",
   "execution_count": 16,
   "id": "a14cd1d3",
   "metadata": {},
   "outputs": [
    {
     "data": {
      "text/plain": [
       "str"
      ]
     },
     "execution_count": 16,
     "metadata": {},
     "output_type": "execute_result"
    }
   ],
   "source": [
    "# string 字符串\n",
    "type (mesage) "
   ]
  },
  {
   "cell_type": "markdown",
   "id": "53b7c85a",
   "metadata": {},
   "source": [
    "### 合并（拼接、插入）字符串"
   ]
  },
  {
   "cell_type": "code",
   "execution_count": 18,
   "id": "a5fdc4ce",
   "metadata": {},
   "outputs": [],
   "source": [
    "First = \"Zhen\"\n",
    "Last  = \"Lei\""
   ]
  },
  {
   "cell_type": "code",
   "execution_count": 26,
   "id": "1728fb03",
   "metadata": {},
   "outputs": [
    {
     "data": {
      "text/plain": [
       "'ZhenLei'"
      ]
     },
     "execution_count": 26,
     "metadata": {},
     "output_type": "execute_result"
    }
   ],
   "source": [
    "name = First + Last\n",
    "name"
   ]
  },
  {
   "cell_type": "code",
   "execution_count": 35,
   "id": "10146e74",
   "metadata": {},
   "outputs": [
    {
     "data": {
      "text/plain": [
       "'Zhen_Lei'"
      ]
     },
     "execution_count": 35,
     "metadata": {},
     "output_type": "execute_result"
    }
   ],
   "source": [
    "# \"_\"用双引号表示str，为识别下滑线\n",
    "name_1 = First + \"_\" + Last \n",
    "name_1"
   ]
  },
  {
   "cell_type": "code",
   "execution_count": 40,
   "id": "69596147",
   "metadata": {},
   "outputs": [],
   "source": [
    "# “”和str()分别可将变量转换为str\n",
    "ID = 27\n",
    "name_2 = First + \"(\" + \"27\" + \")\" + \" \" + Last\n",
    "name_3 = First + \"(\" + str(ID) + \")\" + \" \" + Last "
   ]
  },
  {
   "cell_type": "code",
   "execution_count": 41,
   "id": "8de04442",
   "metadata": {},
   "outputs": [
    {
     "name": "stdout",
     "output_type": "stream",
     "text": [
      "Zhen(27) Lei\n",
      "Zhen(27) Lei\n"
     ]
    }
   ],
   "source": [
    "print(name_2)\n",
    "print(name_3)"
   ]
  },
  {
   "cell_type": "code",
   "execution_count": 48,
   "id": "dff834a3",
   "metadata": {},
   "outputs": [
    {
     "name": "stdout",
     "output_type": "stream",
     "text": [
      "159\n",
      "60and99\n"
     ]
    }
   ],
   "source": [
    " # +号可直接计算多个int，也可以并列str\n",
    "digit1 = 60\n",
    "digit2 = 99\n",
    "ans = digit1 + digit2\n",
    "ans2= str(digit1) + \"and\" + str(digit2)\n",
    "print(ans)\n",
    "print(ans2)"
   ]
  },
  {
   "cell_type": "code",
   "execution_count": 292,
   "id": "ed2db70d",
   "metadata": {},
   "outputs": [
    {
     "name": "stdout",
     "output_type": "stream",
     "text": [
      "1<2<3\n"
     ]
    }
   ],
   "source": [
    "print(1, 2, 3, sep = \"<\")"
   ]
  },
  {
   "cell_type": "markdown",
   "id": "bc7a82a5",
   "metadata": {},
   "source": [
    "### 制表符或换行符"
   ]
  },
  {
   "cell_type": "markdown",
   "id": "fb41232a",
   "metadata": {},
   "source": [
    "\\n 换行  \n",
    "\\t tab次级 8个位数  \n",
    "\\\\\\ 只打印\" \\ \"  \n",
    "\\\\ 换行方便操作过长信息"
   ]
  },
  {
   "cell_type": "code",
   "execution_count": 52,
   "id": "95cd04f3",
   "metadata": {},
   "outputs": [
    {
     "name": "stdout",
     "output_type": "stream",
     "text": [
      "Python\n",
      "\n",
      "Python\n",
      "\tPython\n"
     ]
    }
   ],
   "source": [
    "print(\"Python\")\n",
    "print(\"\\nPython\")\n",
    "print(\"\\tPython\")"
   ]
  },
  {
   "cell_type": "code",
   "execution_count": 53,
   "id": "acb76150",
   "metadata": {},
   "outputs": [
    {
     "name": "stdout",
     "output_type": "stream",
     "text": [
      "per = price\\amount\n"
     ]
    }
   ],
   "source": [
    "print(\"per = price\\\\amount\")"
   ]
  },
  {
   "cell_type": "code",
   "execution_count": 54,
   "id": "159ccf8c",
   "metadata": {},
   "outputs": [
    {
     "name": "stdout",
     "output_type": "stream",
     "text": [
      "Prices:\n",
      "Apple:$5,\n",
      "Pear:$3\n"
     ]
    }
   ],
   "source": [
    "print(\"Prices:\\nApple:$5,\\nPear:$3\")"
   ]
  },
  {
   "cell_type": "code",
   "execution_count": 28,
   "id": "fdddbf33",
   "metadata": {},
   "outputs": [
    {
     "name": "stdout",
     "output_type": "stream",
     "text": [
      "Prices:\n",
      "\tApple:$5,\n",
      "\tPear:$3\n"
     ]
    }
   ],
   "source": [
    "print(\"Prices:\\n\\tApple:$5,\\n\\tPear:$3\")"
   ]
  },
  {
   "cell_type": "code",
   "execution_count": 55,
   "id": "0e8f5db3",
   "metadata": {},
   "outputs": [
    {
     "name": "stdout",
     "output_type": "stream",
     "text": [
      "\n",
      "\"\"Dear Tracy,\n",
      "\tLong time no see!\"\n",
      "\n"
     ]
    }
   ],
   "source": [
    "# 三个引号，内部的引号将不受任何影响\n",
    "test_sent = '''\n",
    "\"\"Dear Tracy,\\n\\tLong time no see!\"\n",
    "'''\n",
    "print(test_sent)"
   ]
  },
  {
   "cell_type": "code",
   "execution_count": 58,
   "id": "fc220607",
   "metadata": {},
   "outputs": [
    {
     "name": "stdout",
     "output_type": "stream",
     "text": [
      "结果表明，SNA-ANN模型更适用于参考建筑物EUI与总建筑物EUI之间的网络较弱且建筑群EUI标准差较大的建筑物。\n",
      "而对于其他三个网络都很强大的建筑群，ANN 模型被证明足够准确，可以预测总建筑EUI。\n"
     ]
    }
   ],
   "source": [
    "result = \"结果表明，SNA-ANN模型更适用于参考建筑物EUI与总建筑物EUI之间\\\n",
    "的网络较弱且建筑群EUI标准差较大的建筑物。\\\n",
    "\\n而对于其他三个网络都很强大的建筑群，ANN 模型被证明足够准确，可以预测总建筑EUI。\"\n",
    "print(result)"
   ]
  },
  {
   "cell_type": "code",
   "execution_count": 85,
   "id": "360cf71a",
   "metadata": {
    "scrolled": true
   },
   "outputs": [
    {
     "name": "stdout",
     "output_type": "stream",
     "text": [
      "matrix = 3 4 5\n",
      "\t 6 7 8\n"
     ]
    }
   ],
   "source": [
    "data = \"matrix = 3 4 5\\\n",
    "\\n\\t 6 7 8\"\n",
    "print(data)"
   ]
  },
  {
   "cell_type": "markdown",
   "id": "110dfa77",
   "metadata": {},
   "source": [
    "---\n",
    "## 3 数字 Number"
   ]
  },
  {
   "cell_type": "markdown",
   "id": "fdf86683",
   "metadata": {},
   "source": [
    "### 整数 Integer"
   ]
  },
  {
   "cell_type": "code",
   "execution_count": 90,
   "id": "89914a3d",
   "metadata": {},
   "outputs": [
    {
     "name": "stdout",
     "output_type": "stream",
     "text": [
      "9\n",
      "1\n",
      "20\n",
      "1.25\n"
     ]
    }
   ],
   "source": [
    "# 加 减 乘 除\n",
    "print(5+4)\n",
    "print(5-4)\n",
    "print(5*4)\n",
    "print(5/4)"
   ]
  },
  {
   "cell_type": "code",
   "execution_count": 91,
   "id": "c786678b",
   "metadata": {},
   "outputs": [
    {
     "data": {
      "text/plain": [
       "64"
      ]
     },
     "execution_count": 91,
     "metadata": {},
     "output_type": "execute_result"
    }
   ],
   "source": [
    "# 乘方 两个乘号\n",
    "8 ** 2"
   ]
  },
  {
   "cell_type": "markdown",
   "id": "b6322629",
   "metadata": {},
   "source": [
    "### 浮点数 Float"
   ]
  },
  {
   "cell_type": "code",
   "execution_count": 92,
   "id": "a396d4c0",
   "metadata": {},
   "outputs": [
    {
     "data": {
      "text/plain": [
       "0.30000000000000004"
      ]
     },
     "execution_count": 92,
     "metadata": {},
     "output_type": "execute_result"
    }
   ],
   "source": [
    "# 内置bug 两者二进制无法精确表示，无限循环导致\n",
    "0.2 + 0.1 "
   ]
  },
  {
   "cell_type": "code",
   "execution_count": 324,
   "id": "45c6129b",
   "metadata": {},
   "outputs": [
    {
     "name": "stdout",
     "output_type": "stream",
     "text": [
      "['__doc__', '__loader__', '__name__', '__package__', '__spec__', 'acos', 'acosh', 'asin', 'asinh', 'atan', 'atan2', 'atanh', 'ceil', 'comb', 'copysign', 'cos', 'cosh', 'degrees', 'dist', 'e', 'erf', 'erfc', 'exp', 'expm1', 'fabs', 'factorial', 'floor', 'fmod', 'frexp', 'fsum', 'gamma', 'gcd', 'hypot', 'inf', 'isclose', 'isfinite', 'isinf', 'isnan', 'isqrt', 'lcm', 'ldexp', 'lgamma', 'log', 'log10', 'log1p', 'log2', 'modf', 'nan', 'nextafter', 'perm', 'pi', 'pow', 'prod', 'radians', 'remainder', 'sin', 'sinh', 'sqrt', 'tan', 'tanh', 'tau', 'trunc', 'ulp']\n"
     ]
    }
   ],
   "source": [
    "# 导入math 基本数学库\n",
    "import math\n",
    "print(dir(math))"
   ]
  },
  {
   "cell_type": "code",
   "execution_count": 322,
   "id": "ac6323de",
   "metadata": {},
   "outputs": [
    {
     "name": "stdout",
     "output_type": "stream",
     "text": [
      "32 is 5.0 powers of 2\n"
     ]
    }
   ],
   "source": [
    "# log 表示指数计算\n",
    "print(\"32 is\",mt.log(32,2),\"powers of 2\")"
   ]
  },
  {
   "cell_type": "code",
   "execution_count": 319,
   "id": "cd5a12f2",
   "metadata": {},
   "outputs": [
    {
     "name": "stdout",
     "output_type": "stream",
     "text": [
      "pi 4 digits = 3.1416\n"
     ]
    }
   ],
   "source": [
    "# 圆周率的调用函数.pi\n",
    "print(\"pi 4 digits = {:.5}\".format(math.pi))"
   ]
  },
  {
   "cell_type": "code",
   "execution_count": 323,
   "id": "30a773bb",
   "metadata": {},
   "outputs": [
    {
     "name": "stdout",
     "output_type": "stream",
     "text": [
      "numpy.random is a <class 'module'>\n",
      "it contains names such as ... ['seed', 'set_state', 'shuffle', 'standard_cauchy', 'standard_exponential', 'standard_gamma', 'standard_normal', 'standard_t', 'test', 'triangular', 'uniform', 'vonmises', 'wald', 'weibull', 'zipf']\n"
     ]
    }
   ],
   "source": [
    "# 导入numpy 数值计算库\n",
    "import numpy\n",
    "\n",
    "print(\"numpy.random is a\",\n",
    "      type(numpy.random)\n",
    "     )\n",
    "print(\"it contains names such as ...\",\n",
    "      dir(numpy.random)[-15:]\n",
    "     )"
   ]
  },
  {
   "cell_type": "markdown",
   "id": "1c8a9037",
   "metadata": {},
   "source": [
    "---\n",
    "## 4 列表 List"
   ]
  },
  {
   "cell_type": "code",
   "execution_count": 102,
   "id": "3071ca99",
   "metadata": {},
   "outputs": [
    {
     "name": "stdout",
     "output_type": "stream",
     "text": [
      "<class 'list'>\n",
      "[1, 2, 3, 4]\n"
     ]
    }
   ],
   "source": [
    "# list 数列，用方括号表示\n",
    "lst1 = [1, 2, 3, 4] \n",
    "print(type(lst1))\n",
    "print(lst1)"
   ]
  },
  {
   "cell_type": "code",
   "execution_count": 107,
   "id": "9b489015",
   "metadata": {},
   "outputs": [
    {
     "name": "stdout",
     "output_type": "stream",
     "text": [
      "<class 'range'>\n",
      "range(0, 10)\n",
      "[0, 1, 2, 3, 4, 5, 6, 7, 8, 9]\n"
     ]
    }
   ],
   "source": [
    "# range 范围，用小括号表示\n",
    "lst2 = range(10) \n",
    "print(type(lst2))\n",
    "print(lst2)\n",
    "print(list(lst2))"
   ]
  },
  {
   "cell_type": "markdown",
   "id": "82326b47",
   "metadata": {},
   "source": [
    "### 索引值从0开始"
   ]
  },
  {
   "cell_type": "code",
   "execution_count": 110,
   "id": "8d82f382",
   "metadata": {},
   "outputs": [
    {
     "name": "stdout",
     "output_type": "stream",
     "text": [
      "1\n"
     ]
    }
   ],
   "source": [
    "# index 索引，此处表示第一位数值\n",
    "print(lst1[0]) "
   ]
  },
  {
   "cell_type": "code",
   "execution_count": 112,
   "id": "5c29c1c1",
   "metadata": {},
   "outputs": [
    {
     "name": "stdout",
     "output_type": "stream",
     "text": [
      "[2, 4, 6, 8]\n"
     ]
    }
   ],
   "source": [
    "# 后面数字2，表示每次的间隔加2\n",
    "print(list(range(2, 10, 2))) "
   ]
  },
  {
   "cell_type": "code",
   "execution_count": 113,
   "id": "7d77f50d",
   "metadata": {},
   "outputs": [],
   "source": [
    "list0_10 = list(lst2)"
   ]
  },
  {
   "cell_type": "code",
   "execution_count": 114,
   "id": "038723b3",
   "metadata": {},
   "outputs": [
    {
     "data": {
      "text/plain": [
       "[0, 1, 2, 3, 4, 5, 6, 7, 8, 9]"
      ]
     },
     "execution_count": 114,
     "metadata": {},
     "output_type": "execute_result"
    }
   ],
   "source": [
    "list0_10"
   ]
  },
  {
   "cell_type": "code",
   "execution_count": 115,
   "id": "16e9e58c",
   "metadata": {},
   "outputs": [
    {
     "data": {
      "text/plain": [
       "[1, 2, 3, 4, 5, 6, 7, 8, 9]"
      ]
     },
     "execution_count": 115,
     "metadata": {},
     "output_type": "execute_result"
    }
   ],
   "source": [
    "list0_10[1:]"
   ]
  },
  {
   "cell_type": "code",
   "execution_count": 122,
   "id": "5f773a7d",
   "metadata": {},
   "outputs": [
    {
     "data": {
      "text/plain": [
       "[1, 2, 3, 4, 5, 6, 7]"
      ]
     },
     "execution_count": 122,
     "metadata": {},
     "output_type": "execute_result"
    }
   ],
   "source": [
    "list0_10[1:8]"
   ]
  },
  {
   "cell_type": "code",
   "execution_count": 120,
   "id": "05b17f2e",
   "metadata": {},
   "outputs": [
    {
     "data": {
      "text/plain": [
       "[0, 1, 2, 3, 4, 5, 6]"
      ]
     },
     "execution_count": 120,
     "metadata": {},
     "output_type": "execute_result"
    }
   ],
   "source": [
    "list0_10[:-3]"
   ]
  },
  {
   "cell_type": "code",
   "execution_count": 121,
   "id": "b6458196",
   "metadata": {},
   "outputs": [
    {
     "data": {
      "text/plain": [
       "8"
      ]
     },
     "execution_count": 121,
     "metadata": {},
     "output_type": "execute_result"
    }
   ],
   "source": [
    "list0_10[-2]"
   ]
  },
  {
   "cell_type": "code",
   "execution_count": 163,
   "id": "d7933ee2",
   "metadata": {},
   "outputs": [
    {
     "name": "stdout",
     "output_type": "stream",
     "text": [
      "<class 'list'>\n",
      "[6, 7]\n",
      "[3, 4]\n"
     ]
    }
   ],
   "source": [
    "# list 数组，用方括号设，父list包含子list\n",
    "array = [[3,4],[6,7]]\n",
    "print(type(array))\n",
    "print(array[1])\n",
    "print(array[0])"
   ]
  },
  {
   "cell_type": "code",
   "execution_count": 164,
   "id": "aa8fe4ed",
   "metadata": {},
   "outputs": [
    {
     "name": "stdout",
     "output_type": "stream",
     "text": [
      "[[3, 9], [6, 7]]\n"
     ]
    }
   ],
   "source": [
    "# 覆盖上面list的子集\n",
    "array[0][1] = 9 \n",
    "print(array)"
   ]
  },
  {
   "cell_type": "code",
   "execution_count": 165,
   "id": "bd6b1799",
   "metadata": {},
   "outputs": [
    {
     "name": "stdout",
     "output_type": "stream",
     "text": [
      "[[3, 9], [6, 7], [5, 0]]\n"
     ]
    }
   ],
   "source": [
    "# .append，在lsit后面添加元素\n",
    "array.append([5, 0]) \n",
    "print(array)"
   ]
  },
  {
   "cell_type": "code",
   "execution_count": 166,
   "id": "3c15f334",
   "metadata": {},
   "outputs": [
    {
     "name": "stdout",
     "output_type": "stream",
     "text": [
      "[[3, 9], [5, 0]]\n"
     ]
    }
   ],
   "source": [
    "# del，删除元素，此处删除父list1\n",
    "del array[1] \n",
    "print(array)"
   ]
  },
  {
   "cell_type": "code",
   "execution_count": 167,
   "id": "9c8b699b",
   "metadata": {},
   "outputs": [
    {
     "name": "stdout",
     "output_type": "stream",
     "text": [
      "[[3, 9], [5]]\n"
     ]
    }
   ],
   "source": [
    "# 此处删除父list中子list\n",
    "del array[1][1]\n",
    "print(array)"
   ]
  },
  {
   "cell_type": "markdown",
   "id": "58c803d5",
   "metadata": {},
   "source": [
    "---\n",
    "## 5 字典 Dictionary"
   ]
  },
  {
   "cell_type": "code",
   "execution_count": 178,
   "id": "5faa0659",
   "metadata": {},
   "outputs": [
    {
     "name": "stdout",
     "output_type": "stream",
     "text": [
      "{'apple': 2, 'pear': 3}\n",
      "<class 'dict'>\n",
      "2\n"
     ]
    }
   ],
   "source": [
    "# dictionary 字典，储存标签与对应的数值，用大括号表示\n",
    "dict_fruit = {\"apple\": 2, \"pear\": 3} \n",
    "print(dict_fruit)\n",
    "print(type(dict_fruit))\n",
    "print(dict_fruit[\"apple\"])"
   ]
  },
  {
   "cell_type": "code",
   "execution_count": 174,
   "id": "56791b3b",
   "metadata": {},
   "outputs": [
    {
     "name": "stdout",
     "output_type": "stream",
     "text": [
      "The price of apple is 2$\n"
     ]
    }
   ],
   "source": [
    "apple_p = \"The price of apple is \" + str(dict_fruit['apple']) + \"$\"\n",
    "print(apple_p)"
   ]
  },
  {
   "cell_type": "code",
   "execution_count": 181,
   "id": "3f115404",
   "metadata": {},
   "outputs": [
    {
     "name": "stdout",
     "output_type": "stream",
     "text": [
      "The price of apple is 2$\n",
      "The price of pear is 3$\n"
     ]
    }
   ],
   "source": [
    "# k,v 代表 key,value,指dict里的标签和数值，.items()代表调取dict目录\n",
    "for k,v in dict_fruit.items(): \n",
    "    sentence = \"The price of \" + k + \" is \" + str(v) + \"$\" \n",
    "    print(sentence)"
   ]
  },
  {
   "cell_type": "code",
   "execution_count": 189,
   "id": "e3b86376",
   "metadata": {},
   "outputs": [
    {
     "data": {
      "text/plain": [
       "{'crit': ['squared_error', 'friedman_mse', 'absolute_error', 'poisson'],\n",
       " 'max_d': range(5, 20, 2),\n",
       " 'max_ln': range(250, 400, 20),\n",
       " 'min_sl': range(3, 7)}"
      ]
     },
     "execution_count": 189,
     "metadata": {},
     "output_type": "execute_result"
    }
   ],
   "source": [
    "# dict常见的构建方法，左：标签key 和 右：数值value，命名符合model要求\n",
    "criterion = ['squared_error', 'friedman_mse', 'absolute_error', 'poisson']\n",
    "max_depth = range(5, 20, 2) # [5, 7, 9, ...]\n",
    "max_leaf_nodes = range(250, 400, 20) # [250, 270, 290,...]\n",
    "min_samples_leaf = range(3, 7) # [3, 4, 5,...]\n",
    "\n",
    "# 存储信息，用于提取和查找的工作\n",
    "param_grid = dict(crit=criterion, \n",
    "                  max_d=max_depth, \n",
    "                  max_ln=max_leaf_nodes, \n",
    "                  min_sl=min_samples_leaf)\n",
    "param_grid "
   ]
  },
  {
   "cell_type": "code",
   "execution_count": 188,
   "id": "126e6531",
   "metadata": {},
   "outputs": [
    {
     "name": "stdout",
     "output_type": "stream",
     "text": [
      "['squared_error', 'friedman_mse', 'absolute_error', 'poisson']\n"
     ]
    }
   ],
   "source": [
    "print(param_grid[\"crit\"])"
   ]
  },
  {
   "cell_type": "markdown",
   "id": "749edf2b",
   "metadata": {},
   "source": [
    "---\n",
    "## 6 循环 Loop"
   ]
  },
  {
   "cell_type": "markdown",
   "id": "d46d690f",
   "metadata": {},
   "source": [
    "### for 循环\n",
    "把一个list的集合次数全部跑完"
   ]
  },
  {
   "cell_type": "code",
   "execution_count": 218,
   "id": "fb9a37ec",
   "metadata": {
    "scrolled": true
   },
   "outputs": [
    {
     "name": "stdout",
     "output_type": "stream",
     "text": [
      "0\n",
      "1\n",
      "2\n",
      "3\n",
      "4\n",
      "10\n",
      "11\n",
      "12\n",
      "13\n",
      "[0, 1, 2, 3, 4, 10, 11, 12, 13]\n"
     ]
    }
   ],
   "source": [
    "# if和print是并列关系，不影响time的总数列\n",
    "time = list(range(5))\n",
    "for t in time:\n",
    "    if (t <= 3):\n",
    "        time.append(t + 10)\n",
    "    print(t)\n",
    "print(time)"
   ]
  },
  {
   "cell_type": "markdown",
   "id": "91a9cf57",
   "metadata": {},
   "source": [
    "### while 循环\n",
    "用初始值运行，直到不符合条件停止"
   ]
  },
  {
   "cell_type": "code",
   "execution_count": 219,
   "id": "334d46e9",
   "metadata": {},
   "outputs": [
    {
     "name": "stdout",
     "output_type": "stream",
     "text": [
      "15\n",
      "14\n",
      "13\n",
      "12\n",
      "11\n"
     ]
    }
   ],
   "source": [
    "# a +=,-=,*=,/= 表示a=a(+_*/)a，而==表示判断是否相等\n",
    "a = 15\n",
    "while (a > 10) :\n",
    "    print(a)\n",
    "    a -= 1 "
   ]
  },
  {
   "cell_type": "code",
   "execution_count": 220,
   "id": "fae19884",
   "metadata": {
    "scrolled": true
   },
   "outputs": [
    {
     "name": "stdout",
     "output_type": "stream",
     "text": [
      "19\n",
      "16\n",
      "15\n",
      "13\n",
      "10\n",
      "9\n",
      "7\n",
      "4\n"
     ]
    }
   ],
   "source": [
    "# %指倍数，余数为0表示能被整除\n",
    "ret = 20\n",
    "while (ret > 5):\n",
    "    if (ret % 2 == 0): \n",
    "        ret -= 1 \n",
    "    elif (ret % 3 == 0):\n",
    "        ret -= 2\n",
    "    else:\n",
    "        ret -= 3\n",
    "    print(ret)"
   ]
  },
  {
   "cell_type": "code",
   "execution_count": 221,
   "id": "9dbf8411",
   "metadata": {},
   "outputs": [
    {
     "name": "stdout",
     "output_type": "stream",
     "text": [
      "13\n",
      "13\n",
      "10\n",
      "11\n",
      "8\n",
      "9\n",
      "7\n",
      "7\n",
      "4\n",
      "5\n"
     ]
    }
   ],
   "source": [
    "# break 离开整个循环，不再运行\n",
    "time = [15,14,13,12,11,10,9,8,7,6,5,4,3,2,1]\n",
    "for t in time :\n",
    "    if (t <= 5):\n",
    "        break \n",
    "    if (t % 2 == 0):\n",
    "        t -= 1 \n",
    "    elif (t % 3 == 0):\n",
    "        t -= 2\n",
    "    else:\n",
    "        t -= 3\n",
    "    print(t)"
   ]
  },
  {
   "cell_type": "markdown",
   "id": "ae7155a8",
   "metadata": {},
   "source": [
    "---\n",
    "## 7 条件语句 If/Elif/Else"
   ]
  },
  {
   "cell_type": "markdown",
   "id": "f74f317b",
   "metadata": {},
   "source": [
    "if ():  \n",
    "elif(): \"repeat\"  \n",
    "else:\"last\"  \n",
    "\n",
    "三个搭配时，最后只有一个解；  \n",
    "if与if，互相不干涉判断；  \n",
    "if与elif，只有一个判断；  \n",
    "if与else，只有一个答案；  \n",
    "可单用、双用、三用"
   ]
  },
  {
   "cell_type": "code",
   "execution_count": 229,
   "id": "e5bf670e",
   "metadata": {},
   "outputs": [
    {
     "name": "stdout",
     "output_type": "stream",
     "text": [
      "11 1\n",
      "11\n"
     ]
    }
   ],
   "source": [
    "# 三个搭配，过滤筛选后为一个解\n",
    "a = 11\n",
    "if (a > 10):\n",
    "    print(str(a) + \" 1\")\n",
    "elif (a < 3):\n",
    "    print(str(a) + \" 2\")\n",
    "else: \n",
    "    a = None\n",
    "print (a) "
   ]
  },
  {
   "cell_type": "code",
   "execution_count": 235,
   "id": "492897bd",
   "metadata": {},
   "outputs": [
    {
     "name": "stdout",
     "output_type": "stream",
     "text": [
      "15 1\n",
      "15 2\n"
     ]
    }
   ],
   "source": [
    "# 双if 同时运行，互相不影响\n",
    "a = 15\n",
    "if (a > 10):\n",
    "    print(str(a) + \" 1\")\n",
    "if (a > 13):\n",
    "    print(str(a) + \" 2\")\n",
    "else:\n",
    "    print(str(a) + \" 3\") "
   ]
  },
  {
   "cell_type": "code",
   "execution_count": 233,
   "id": "f974837a",
   "metadata": {},
   "outputs": [
    {
     "name": "stdout",
     "output_type": "stream",
     "text": [
      "12 1\n",
      "12 3\n"
     ]
    }
   ],
   "source": [
    "# 双if 同时判别，都会影响else\n",
    "a = 12\n",
    "if (a > 10):\n",
    "    print(str(a) + \" 1\")\n",
    "if (a > 13):\n",
    "    print(str(a) + \" 2\")\n",
    "else:\n",
    "    print(str(a) + \" 3\") "
   ]
  },
  {
   "cell_type": "code",
   "execution_count": 236,
   "id": "24effd54",
   "metadata": {},
   "outputs": [
    {
     "name": "stdout",
     "output_type": "stream",
     "text": [
      "15 1\n"
     ]
    }
   ],
   "source": [
    "# if 和 elif 有且只有一个判断\n",
    "a = 15\n",
    "if (a > 10):\n",
    "    print(str(a) + \" 1\")\n",
    "elif (a > 13):\n",
    "    print(str(a) + \" 2\") \n",
    "else:\n",
    "    print(str(a) + \" 3\")"
   ]
  },
  {
   "cell_type": "markdown",
   "id": "3522e89c",
   "metadata": {},
   "source": [
    "### 判断 Boolean\n",
    "True 和 False 的关系"
   ]
  },
  {
   "cell_type": "code",
   "execution_count": 298,
   "id": "2824c553",
   "metadata": {},
   "outputs": [
    {
     "data": {
      "text/plain": [
       "True"
      ]
     },
     "execution_count": 298,
     "metadata": {},
     "output_type": "execute_result"
    }
   ],
   "source": [
    "True or False"
   ]
  },
  {
   "cell_type": "code",
   "execution_count": 301,
   "id": "9a158a84",
   "metadata": {},
   "outputs": [
    {
     "data": {
      "text/plain": [
       "False"
      ]
     },
     "execution_count": 301,
     "metadata": {},
     "output_type": "execute_result"
    }
   ],
   "source": [
    "True or False and False"
   ]
  },
  {
   "cell_type": "code",
   "execution_count": 302,
   "id": "66b13164",
   "metadata": {},
   "outputs": [
    {
     "data": {
      "text/plain": [
       "False"
      ]
     },
     "execution_count": 302,
     "metadata": {},
     "output_type": "execute_result"
    }
   ],
   "source": [
    "True and False"
   ]
  },
  {
   "cell_type": "code",
   "execution_count": 243,
   "id": "8fed64a5",
   "metadata": {},
   "outputs": [
    {
     "data": {
      "text/plain": [
       "True"
      ]
     },
     "execution_count": 243,
     "metadata": {},
     "output_type": "execute_result"
    }
   ],
   "source": [
    "1 in range(10) "
   ]
  },
  {
   "cell_type": "code",
   "execution_count": 244,
   "id": "4b4fe234",
   "metadata": {},
   "outputs": [
    {
     "data": {
      "text/plain": [
       "True"
      ]
     },
     "execution_count": 244,
     "metadata": {},
     "output_type": "execute_result"
    }
   ],
   "source": [
    "lst1 = [0,6,5,7,8]\n",
    "5 in lst1 "
   ]
  },
  {
   "cell_type": "code",
   "execution_count": 245,
   "id": "543995de",
   "metadata": {},
   "outputs": [
    {
     "data": {
      "text/plain": [
       "False"
      ]
     },
     "execution_count": 245,
     "metadata": {},
     "output_type": "execute_result"
    }
   ],
   "source": [
    "# 两个“等号”代表判断是否相等\n",
    "a = 1\n",
    "b = a + 10\n",
    "b ==12 "
   ]
  },
  {
   "cell_type": "code",
   "execution_count": 272,
   "id": "4f9f3652",
   "metadata": {},
   "outputs": [
    {
     "name": "stdout",
     "output_type": "stream",
     "text": [
      "I like you!\n"
     ]
    }
   ],
   "source": [
    "# 两个“<<”代表判断是否小于且等于\n",
    "x = 5\n",
    "x = x - 4\n",
    "if x << 1:\n",
    "    print (\"I like you!\")"
   ]
  },
  {
   "cell_type": "code",
   "execution_count": 275,
   "id": "8604856b",
   "metadata": {},
   "outputs": [
    {
     "name": "stderr",
     "output_type": "stream",
     "text": [
      "<>:2: SyntaxWarning: \"is\" with a literal. Did you mean \"==\"?\n",
      "<>:2: SyntaxWarning: \"is\" with a literal. Did you mean \"==\"?\n",
      "C:\\Users\\zhenl\\AppData\\Local\\Temp\\ipykernel_78172\\342756370.py:2: SyntaxWarning: \"is\" with a literal. Did you mean \"==\"?\n",
      "  a is 15\n"
     ]
    },
    {
     "data": {
      "text/plain": [
       "False"
      ]
     },
     "execution_count": 275,
     "metadata": {},
     "output_type": "execute_result"
    }
   ],
   "source": [
    "# == 比 is 更正式的用于判断语句\n",
    "a is 15"
   ]
  },
  {
   "cell_type": "markdown",
   "id": "1edbfd34",
   "metadata": {},
   "source": [
    "---\n",
    "## 8 函数 Define\n",
    "def 代表定义一个函数方式  \n",
    "return 代表运行结束，即终"
   ]
  },
  {
   "cell_type": "code",
   "execution_count": 250,
   "id": "fd026756",
   "metadata": {},
   "outputs": [
    {
     "name": "stdout",
     "output_type": "stream",
     "text": [
      "40\n"
     ]
    }
   ],
   "source": [
    "def plus_sim(a, b):\n",
    "    c = a + b\n",
    "    return c \n",
    "\n",
    "a = 34\n",
    "b = 6\n",
    "ans = plus_sim(a,b)\n",
    "print(ans)"
   ]
  },
  {
   "cell_type": "code",
   "execution_count": 253,
   "id": "69c7aafc",
   "metadata": {},
   "outputs": [
    {
     "name": "stdout",
     "output_type": "stream",
     "text": [
      "4\n"
     ]
    }
   ],
   "source": [
    "# 结合if 成为条件判断函数\n",
    "def plus_con(a, b):\n",
    "    c = a+b\n",
    "    if (c > 10):\n",
    "        return c\n",
    "    else:\n",
    "        return a\n",
    "\n",
    "ans = plus_con(4,3)\n",
    "print(ans)"
   ]
  },
  {
   "cell_type": "code",
   "execution_count": 255,
   "id": "39fab1a8",
   "metadata": {},
   "outputs": [
    {
     "name": "stdout",
     "output_type": "stream",
     "text": [
      "None\n"
     ]
    }
   ],
   "source": [
    "# 若else没有return，不会记录值，所以无解\n",
    "def plus_con2(a, b):\n",
    "    c = a + b\n",
    "    if (c > 10):\n",
    "        return c\n",
    "    else:\n",
    "        c = a - b\n",
    "        \n",
    "ans = plus_con2(4,3)\n",
    "print (ans)"
   ]
  },
  {
   "cell_type": "code",
   "execution_count": 287,
   "id": "a191d4f5",
   "metadata": {},
   "outputs": [],
   "source": [
    "# abs表示绝对值，around表示十位小数\n",
    "def least_difference(a,b,c):\n",
    "    diff1=abs(a-b)\n",
    "    diff2=abs(b-c)\n",
    "    diff3=abs(a-c)\n",
    "    return min(diff1,diff2,diff3)"
   ]
  },
  {
   "cell_type": "code",
   "execution_count": 293,
   "id": "c84b25a5",
   "metadata": {},
   "outputs": [
    {
     "name": "stdout",
     "output_type": "stream",
     "text": [
      "9 0 1\n"
     ]
    }
   ],
   "source": [
    "print(\n",
    "\n",
    "    least_difference(1,10,100),\n",
    "    least_difference(1,10,10),\n",
    "    least_difference(5,6,7),\n",
    ")"
   ]
  },
  {
   "cell_type": "code",
   "execution_count": 296,
   "id": "45a3d3d6",
   "metadata": {},
   "outputs": [
    {
     "name": "stdout",
     "output_type": "stream",
     "text": [
      "Hello, AI\n",
      "Hello, Tracy\n",
      "Hello, Python\n",
      "Hello, Architecture\n"
     ]
    }
   ],
   "source": [
    "# 批量化的函数定义\n",
    "def greet(who=\"AI\"):\n",
    "    print(\"Hello,\", who)\n",
    "\n",
    "greet()\n",
    "greet(who=\"Tracy\")\n",
    "greet(who=\"Python\")\n",
    "greet(who=\"Architecture\")"
   ]
  },
  {
   "cell_type": "code",
   "execution_count": 306,
   "id": "4d107ca4",
   "metadata": {},
   "outputs": [
    {
     "name": "stdout",
     "output_type": "stream",
     "text": [
      "2 is positive\n",
      "0 is zero\n",
      "-8 is negative\n",
      "* is unlike any number I've ever seen...\n"
     ]
    }
   ],
   "source": [
    "def inspect(x):\n",
    "    if not isinstance(x, (int, float, complex)):\n",
    "        print(x, \"is unlike any number I've ever seen...\")\n",
    "    elif x == 0:\n",
    "        print(x, \"is zero\")\n",
    "    elif x > 0:\n",
    "        print(x, \"is positive\")\n",
    "    elif x < 0:\n",
    "        print(x, \"is negative\")\n",
    "\n",
    "        \n",
    "inspect(2)\n",
    "inspect(0)\n",
    "inspect(-8)\n",
    "inspect(\"*\")"
   ]
  },
  {
   "cell_type": "markdown",
   "id": "b59088dd",
   "metadata": {},
   "source": [
    "---\n",
    "## 类 Class\n",
    "Python中采用类（class）的概念来支持面向对象编程（OOP，Object-Oriented Programming）  \n",
    "OOP是一种编程范式，它将数据和操作数据的方法组合在一起，使代码更模块化、可重用和易于维护"
   ]
  },
  {
   "cell_type": "markdown",
   "id": "b34058f7",
   "metadata": {},
   "source": [
    ">类（Class） 就像是一份汽车的设计图纸，它定义了汽车的特征和功能。设计图纸上描述了汽车的属性（颜色、品牌、型号等）和行为（加速、刹车、转向等）。   \n",
    "对象（Object） 则是根据这份设计图纸制造出来的具体汽车。你可以根据相同的设计图纸制造多辆汽车，它们共享相同的设计规格（即类的定义），但可能拥有不同的属性值（例如颜色、型号）。  \n",
    "属性（Attributes） 是汽车的特征，比如颜色、型号、发动机功率等。  \n",
    "方法（Methods） 是汽车可以执行的操作，例如加速、刹车、转向等。  \n",
    "实例化（Instantiate） 是根据设计图纸制造一辆具体的汽车的过程，创建一个对象的过程。"
   ]
  },
  {
   "cell_type": "code",
   "execution_count": 283,
   "id": "c7645757",
   "metadata": {},
   "outputs": [
    {
     "name": "stdout",
     "output_type": "stream",
     "text": [
      "Car is accelerating.\n",
      "Car is accelerating.\n"
     ]
    }
   ],
   "source": [
    "# 定义汽车类 class\n",
    "class Car:\n",
    "    # 定义汽车属性 attributes\n",
    "    def __init__(self, color, model):\n",
    "        self.color = color\n",
    "        self.model = model\n",
    "    # 定义汽车方法 methods\n",
    "    def accelerate(self):\n",
    "        print(\"Car is accelerating.\")\n",
    "\n",
    "# 实例化两辆车 objects\n",
    "car1 = Car('red', 'Toyota')\n",
    "car2 = Car('blue', 'Honda')\n",
    "\n",
    "# 调用汽车方法 \n",
    "car1.accelerate() \n",
    "car2.accelerate()  "
   ]
  },
  {
   "cell_type": "code",
   "execution_count": 286,
   "id": "b2099f6f",
   "metadata": {},
   "outputs": [
    {
     "name": "stdout",
     "output_type": "stream",
     "text": [
      "<__main__.Architect object at 0x000001BAC220CEB0>\n",
      "<class '__main__.Architect'>\n",
      "Zhen Lei\n"
     ]
    }
   ],
   "source": [
    "class Architect(object): #创建类\n",
    "    pass\n",
    "CodeWithJackson = Architect() #创建实例\n",
    "print(CodeWithJackson) #打印实例\n",
    "print(Architect) #打印类\n",
    "\n",
    "CodeWithJackson.name = \"Zhen Lei\" #创建属性\n",
    "print(CodeWithJackson.name)"
   ]
  },
  {
   "cell_type": "markdown",
   "id": "925818de",
   "metadata": {},
   "source": [
    "---\n",
    "## README"
   ]
  },
  {
   "cell_type": "code",
   "execution_count": 256,
   "id": "f33dcd67",
   "metadata": {},
   "outputs": [
    {
     "name": "stdout",
     "output_type": "stream",
     "text": [
      "The Zen of Python, by Tim Peters\n",
      "\n",
      "Beautiful is better than ugly.\n",
      "Explicit is better than implicit.\n",
      "Simple is better than complex.\n",
      "Complex is better than complicated.\n",
      "Flat is better than nested.\n",
      "Sparse is better than dense.\n",
      "Readability counts.\n",
      "Special cases aren't special enough to break the rules.\n",
      "Although practicality beats purity.\n",
      "Errors should never pass silently.\n",
      "Unless explicitly silenced.\n",
      "In the face of ambiguity, refuse the temptation to guess.\n",
      "There should be one-- and preferably only one --obvious way to do it.\n",
      "Although that way may not be obvious at first unless you're Dutch.\n",
      "Now is better than never.\n",
      "Although never is often better than *right* now.\n",
      "If the implementation is hard to explain, it's a bad idea.\n",
      "If the implementation is easy to explain, it may be a good idea.\n",
      "Namespaces are one honking great idea -- let's do more of those!\n"
     ]
    }
   ],
   "source": [
    "import this"
   ]
  }
 ],
 "metadata": {
  "kernelspec": {
   "display_name": "Python 3 (ipykernel)",
   "language": "python",
   "name": "python3"
  },
  "language_info": {
   "codemirror_mode": {
    "name": "ipython",
    "version": 3
   },
   "file_extension": ".py",
   "mimetype": "text/x-python",
   "name": "python",
   "nbconvert_exporter": "python",
   "pygments_lexer": "ipython3",
   "version": "3.9.12"
  }
 },
 "nbformat": 4,
 "nbformat_minor": 5
}
